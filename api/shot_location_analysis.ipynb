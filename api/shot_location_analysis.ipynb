{
 "cells": [
  {
   "cell_type": "code",
   "execution_count": null,
   "id": "9f590367",
   "metadata": {},
   "outputs": [],
   "source": [
    "def get_coordinate_goal_shot_ratio_for_player(player_id, x, y, coordinate_shots=coordinate_shots, player_id_games=player_id_games):\n",
    "\n",
    "    # Retrieve the player_shots using the get_shots_by_player function\n",
    "    player_shots = get_shots_by_player(player_id, player_id_games)\n",
    "\n",
    "    # Intersect the coordinate_shots and player_shots lists\n",
    "    coordinate_player_shots = [shot for shot in coordinate_shots[(x, y)] if shot in player_shots]\n",
    "\n",
    "\n",
    "    # Use the get_goal_shot_ratio function to calculate the proportion of goals to shots for the coordinate_player_shots list\n",
    "    proportion_of_goals = get_goal_shot_ratio(player_id, player_id_games, coordinate_player_shots)\n",
    "\n",
    "    # Return the proportion_of_goals\n",
    "    return proportion_of_goals"
   ]
  },
  {
   "cell_type": "code",
   "execution_count": null,
   "id": "6349c03f",
   "metadata": {},
   "outputs": [],
   "source": [
    "get_shots_by_player(8470886)"
   ]
  },
  {
   "cell_type": "code",
   "execution_count": null,
   "id": "042b4ab0",
   "metadata": {},
   "outputs": [],
   "source": [
    "def get_coordinate_shots_corrected(coordinate_shots):\n",
    "    # Initialize an empty dictionary to store the corrected coordinates\n",
    "    coordinate_shots_corrected = {}\n",
    "\n",
    "    # Loop through the keys in the coordinate_shots dictionary\n",
    "    for coordinate, shots in coordinate_shots.items():\n",
    "        # Retrieve the x and y values from the coordinate\n",
    "        x, y = coordinate\n",
    "\n",
    "        # Loop through the shots taken at the current coordinate\n",
    "        for shot in shots:\n",
    "            # Retrieve the side value for the current shot\n",
    "            side = shot['about']['side']\n",
    "\n",
    "            # Invert the x value if the side is \"away\"\n",
    "            if side == \"away\":\n",
    "                x *= -1\n",
    "\n",
    "            # Store the corrected coordinate as a tuple\n",
    "            corrected_coordinate = (x, y)\n",
    "\n",
    "            # If the corrected coordinate is not already a key in the coordinate_shots_corrected dictionary,\n",
    "            # initialize it with an empty list as its value\n",
    "            if corrected_coordinate not in coordinate_shots_corrected:\n",
    "                coordinate_shots_corrected[corrected_coordinate] = []\n",
    "\n",
    "            # Append the current shot to the list of shots for the corrected coordinate\n",
    "            coordinate_shots_corrected[corrected_coordinate].append(shot)\n",
    "\n",
    "    # Return the dictionary of corrected coordinates\n",
    "    return coordinate_shots_corrected"
   ]
  },
  {
   "cell_type": "code",
   "execution_count": null,
   "id": "a54a8063",
   "metadata": {},
   "outputs": [],
   "source": [
    "get_coordinate_shots_corrected(coordinate_shots)"
   ]
  },
  {
   "cell_type": "code",
   "execution_count": null,
   "id": "0278d040",
   "metadata": {},
   "outputs": [],
   "source": [
    "def get_home_away_teams():\n",
    "    home_away_teams = {}\n",
    "\n",
    "    # Iterate over the gameIDs in games_trimmed\n",
    "    for gameID in games_trimmed:\n",
    "        # Open the game file for the current gameID\n",
    "        with open(f\"games/game_{gameID}.json\", \"r\") as game_file:\n",
    "            # Load the data from the game file\n",
    "            game_data = json.load(game_file)\n",
    "\n",
    "            # Retrieve the teams data from the game file\n",
    "            teams = game_data['gameData']['teams']\n",
    "\n",
    "            # Retrieve the triCodes for the home and away teams\n",
    "            home_triCode = teams['home']['triCode']\n",
    "            away_triCode = teams['away']['triCode']\n",
    "\n",
    "            # Add an entry to the home_away_teams dictionary for the current gameID with the home and away teams as the value\n",
    "            home_away_teams[gameID] = (home_triCode, away_triCode)\n",
    "\n",
    "    return home_away_teams"
   ]
  },
  {
   "cell_type": "code",
   "execution_count": null,
   "id": "3c22ec8f",
   "metadata": {},
   "outputs": [],
   "source": [
    "home_away_teams = get_home_away_teams()"
   ]
  },
  {
   "cell_type": "code",
   "execution_count": null,
   "id": "1945243b",
   "metadata": {},
   "outputs": [],
   "source": [
    "games_trimmed[2012020001][0]['team']"
   ]
  },
  {
   "cell_type": "code",
   "execution_count": null,
   "id": "4842ece3",
   "metadata": {},
   "outputs": [],
   "source": [
    "home_away_teams[2012020001]"
   ]
  },
  {
   "cell_type": "code",
   "execution_count": null,
   "id": "1366f08c",
   "metadata": {},
   "outputs": [],
   "source": [
    "# Initialize an empty dictionary to store the corrected coordinate shots\n",
    "\n",
    "coordinate_shots_corrected = {}\n",
    "\n",
    "# Loop through the keys (x, y coordinates) in the coordinate_shots dictionary\n",
    "for coordinate in coordinate_shots:\n",
    "    # Retrieve the list of shots taken from the current coordinate\n",
    "    shots = coordinate_shots[coordinate]\n",
    "\n",
    "    # Initialize an empty list to store the corrected shots\n",
    "    corrected_shots = []\n",
    "\n",
    "    # Loop through the shots in the list of shots taken from the current coordinate\n",
    "    for shot in shots:\n",
    "        # Retrieve the gameID of the shot\n",
    "        gameID = shot['gameID']\n",
    "\n",
    "        # Retrieve the home and away teams for the gameID\n",
    "        home, away = home_away_teams[gameID]\n",
    "\n",
    "        # Retrieve the triCode of the team that took the shot\n",
    "        team = shot['team']['triCode']\n",
    "\n",
    "        # Check if the triCode of the shooting team is the home team\n",
    "        if team == home:\n",
    "            # If the triCode of the shooting team is the home team, the x-value of the shot should not be inverted\n",
    "            x = shot['coordinates']['x']\n",
    "\n",
    "        # If the triCode of the shooting team is the away team, the x-value of the shot should be inverted\n",
    "        elif team == away:\n",
    "            x = -1 * shot['coordinates']['x']\n",
    "\n",
    "        # Retrieve the y-value of the shot\n",
    "        y = shot['coordinates']['y']\n",
    "\n",
    "        # Append a dictionary with the corrected x, y coordinates and the rest of the shot data to the corrected_shots list\n",
    "        corrected_shots.append({'coordinates': {'x': x, 'y': y}, 'gameID': gameID, 'team': shot['team'], 'result': shot['result'], 'about': shot['about']})\n",
    "\n",
    "    # Add the corrected_shots list to the coordinate_shots_corrected dictionary using the coordinate tuple as the key\n",
    "    coordinate_shots_corrected[coordinate] = corrected_shots\n",
    "\n",
    "# Return the coordinate_shots_corrected dictionary\n",
    "return coordinate_shots_corrected"
   ]
  },
  {
   "cell_type": "code",
   "execution_count": null,
   "id": "2c24c23e",
   "metadata": {},
   "outputs": [],
   "source": [
    "coordinate_shots[(10, 10)][0]"
   ]
  },
  {
   "cell_type": "code",
   "execution_count": null,
   "id": "34a9de3e",
   "metadata": {},
   "outputs": [],
   "source": []
  }
 ],
 "metadata": {
  "kernelspec": {
   "display_name": "Python 3 (ipykernel)",
   "language": "python",
   "name": "python3"
  },
  "language_info": {
   "codemirror_mode": {
    "name": "ipython",
    "version": 3
   },
   "file_extension": ".py",
   "mimetype": "text/x-python",
   "name": "python",
   "nbconvert_exporter": "python",
   "pygments_lexer": "ipython3",
   "version": "3.9.12"
  }
 },
 "nbformat": 4,
 "nbformat_minor": 5
}
