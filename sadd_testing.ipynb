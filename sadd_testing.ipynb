{
 "cells": [
  {
   "cell_type": "code",
   "execution_count": 32,
   "id": "fdf5a86b",
   "metadata": {},
   "outputs": [],
   "source": [
    "%run init_script_defines.py"
   ]
  },
  {
   "cell_type": "code",
   "execution_count": 3,
   "id": "96a3817d",
   "metadata": {},
   "outputs": [],
   "source": [
    "games_trimmed = build_games_trimmed('../Capstone/api/games')"
   ]
  },
  {
   "cell_type": "code",
   "execution_count": 6,
   "id": "ee687317",
   "metadata": {},
   "outputs": [
    {
     "name": "stdout",
     "output_type": "stream",
     "text": [
      "2022020360\r"
     ]
    }
   ],
   "source": [
    "game_shifts = build_game_shifts('../Capstone/api/shifts')"
   ]
  },
  {
   "cell_type": "code",
   "execution_count": null,
   "id": "d9799397",
   "metadata": {},
   "outputs": [
    {
     "name": "stdout",
     "output_type": "stream",
     "text": [
      "build_player_id_set()\n",
      "build_coordinate_shots()\n",
      "build_grouped_data()\n",
      "build_team_set()\n",
      "build_player_id_games()\n",
      "build_player_pcts_and_groups()\n",
      "get_goal_shot_ratio()dinates())\r"
     ]
    }
   ],
   "source": [
    "player_id_set = build_player_id_set(games_trimmed=games_trimmed)\n",
    "coordinate_shots = build_coordinate_shots(games_trimmed=games_trimmed)\n",
    "grouped_data = build_grouped_data(games_trimmed=games_trimmed, coordinate_shots=coordinate_shots)\n",
    "with open('../Capstone/data/player_teams.pkl', 'rb') as f:\n",
    "    player_teams = pickle.load(f)\n",
    "team_set = build_team_set(games_trimmed=games_trimmed)\n",
    "with open('../Capstone/data/team_games.pkl', 'rb') as f:\n",
    "    team_games = pickle.load(f)\n",
    "player_id_games = build_player_id_games(games_trimmed=games_trimmed, player_id_set=player_id_set, player_teams=player_teams, team_set=team_set, team_games=team_games)\n",
    "player_pcts_and_groups=build_player_pcts_and_groups(games_trimmed=games_trimmed, player_id_set=player_id_set, player_teams=player_teams, team_set=team_set, team_games=team_games, player_id_games=player_id_games, coordinate_shots=coordinate_shots, grouped_data=grouped_data)\n",
    "sadd = build_sadd(games_trimmed=games_trimmed, directory='.', game_shifts=game_shifts, player_id_set=player_id_set, player_teams=player_teams, team_set=team_set, team_games=team_games, player_id_games=player_id_games, coordinate_shots=coordinate_shots, grouped_data=grouped_data, player_pcts_and_groups=player_pcts_and_groups)"
   ]
  },
  {
   "cell_type": "code",
   "execution_count": 7,
   "id": "3fe6484f",
   "metadata": {},
   "outputs": [],
   "source": [
    "def build_sadd(games_trimmed=None, directory='.', game_shifts=None, player_id_set=None, player_teams=None, team_set=None, team_games=None, player_id_games=None, coordinate_shots=None, grouped_data=None, player_pcts_and_groups=None):\n",
    "    if games_trimmed is None:\n",
    "        print(\"Please build games_trimmed with the build_games_trimmed() function. \\nPass the directory your game .json files are saved in as its argument.\")\n",
    "        return None\n",
    "    if game_shifts is None:\n",
    "        game_shifts=build_game_shifts(directory=directory)\n",
    "    if player_id_set is None:\n",
    "        player_id_set = build_player_id_set(games_trimmed=games_trimmed)\n",
    "    if player_teams is None:\n",
    "        player_teams = build_player_teams(games_trimmed=games_trimmed, player_id_set=player_id_set)\n",
    "    if team_set is None:\n",
    "        team_set = build_team_set(games_trimmed=games_trimmed)\n",
    "    if team_games is None:\n",
    "        team_games = build_team_games(games_trimmed=games_trimmed, team_set=team_set)\n",
    "    if player_id_games is None:\n",
    "        player_id_games = build_player_id_games(games_trimmed=games_trimmed, player_id_set=player_id_set, player_teams=player_teams, team_games=team_games)\n",
    "    if coordinate_shots is None:\n",
    "        coordinate_shots = build_coordinate_shots(games_trimmed=games_trimmed)\n",
    "    if grouped_data is None:\n",
    "        grouped_data=build_grouped_data(games_trimmed=games_trimmed, coordinate_shots=coordinate_shots)\n",
    "    if player_pcts_and_groups is None:\n",
    "        player_pcts_and_groups=build_player_pcts_and_groups(games_trimmed=games_trimmed, player_id_set=player_id_set, player_teams=player_teams, team_set=team_set, team_games=team_games, player_id_games=player_id_games, coordinate_shots=coordinate_shots, grouped_data=grouped_data)\n",
    "    sadd = {}\n",
    "    for player in player_id_set:\n",
    "        sadd[player] = {}\n",
    "        sadd[player]['pct_diff_total'] = 0\n",
    "        sadd[player]['sadd_events'] = 0\n",
    "        sadd[player]['sadd'] = 0\n",
    "    for gameID, shotID in games_trimmed:\n",
    "        period, time = get_shot_time(gameID, shotID, games_trimmed=games_trimmed)\n",
    "        playerList = get_players_on_ice(gameID, period, time, game_shifts=game_shifts)\n",
    "        shotPct = get_shot_pct(gameID, shotID, games_trimmed=games_trimmed, player_id_set=player_id_set, player_teams=player_teams, team_set=team_set, team_games=team_games, player_id_games=player_id_games, grouped_data=grouped_data, player_pcts_and_groups=player_pcts_and_groups)\n",
    "        shooterPct = get_shooter_pct(gameID, shotID, games_trimmed=games_trimmed, player_id_set=player_id_set, player_teams=player_teams, team_set=team_set, team_games=team_games, player_id_games=player_id_games, grouped_data=grouped_data, player_pcts_and_groups=player_pcts_and_groups)\n",
    "        for player in playerList:\n",
    "            sadd[player]['pct_diff_total'] += (shooterPct - shotPct)\n",
    "            sadd[player]['sadd_events'] += 1\n",
    "            sadd[player]['sadd'] = sadd[player]['pct_diff_total']/sadd[player]['sadd_events']\n",
    "    return sadd"
   ]
  },
  {
   "cell_type": "code",
   "execution_count": 8,
   "id": "a3ca0a2d",
   "metadata": {},
   "outputs": [],
   "source": [
    "def get_shooter_pct(gameID, shotID, games_trimmed=None, player_id_set=None, player_teams=None, team_set=None, team_games=None, player_id_games=None, coordinate_shots=None, grouped_data=None, player_pcts_and_groups=None):\n",
    "    if games_trimmed is None:\n",
    "        print(\"Please build games_trimmed with the build_games_trimmed() function. \\nPass the directory your game .json files are saved in as its argument.\")\n",
    "        return None\n",
    "    if player_id_set is None:\n",
    "        player_id_set = build_player_id_set(games_trimmed=games_trimmed)\n",
    "    if player_teams is None:\n",
    "        player_teams = build_player_teams(games_trimmed=games_trimmed, player_id_set=player_id_set)\n",
    "    if team_set is None:\n",
    "        team_set = build_team_set(games_trimmed=games_trimmed)\n",
    "    if team_games is None:\n",
    "        team_games = build_team_games(games_trimmed=games_trimmed, team_set=team_set)\n",
    "    if player_id_games is None:\n",
    "        player_id_games = build_player_id_games(games_trimmed=games_trimmed, player_id_set=player_id_set, player_teams=player_teams, team_games=team_games)\n",
    "    if coordinate_shots is None:\n",
    "        coordinate_shots = build_coordinate_shots(games_trimmed=games_trimmed)\n",
    "    if grouped_data is None:\n",
    "        grouped_data=build_grouped_data(games_trimmed=games_trimmed, coordinate_shots=coordinate_shots)\n",
    "    if player_pcts_and_groups is None:\n",
    "        player_pcts_and_groups=build_player_pcts_and_groups(games_trimmed=games_trimmed, player_id_set=player_id_set, player_teams=player_teams, team_set=team_set, team_games=team_games, player_id_games=player_id_games, coordinate_shots=coordinate_shots, grouped_data=grouped_data)\n",
    "    shooter = get_shot_shooter(gameID, shotID, games_trimmed=games_trimmed)\n",
    "    return player_pcts_and_groups[shooter][0]"
   ]
  },
  {
   "cell_type": "code",
   "execution_count": 9,
   "id": "27f9222e",
   "metadata": {},
   "outputs": [],
   "source": [
    "def get_shot_pct(gameID, shotID, games_trimmed=None, player_id_set=None, player_teams=None, team_set=None, team_games=None, player_id_games=None, coordinate_shots=None, grouped_data=None, player_pcts_and_groups=None):\n",
    "    if games_trimmed is None:\n",
    "        print(\"Please build games_trimmed with the build_games_trimmed() function. \\nPass the directory your game .json files are saved in as its argument.\")\n",
    "        return None\n",
    "    if player_id_set is None:\n",
    "        player_id_set = build_player_id_set(games_trimmed=games_trimmed)\n",
    "    if player_teams is None:\n",
    "        player_teams = build_player_teams(games_trimmed=games_trimmed, player_id_set=player_id_set)\n",
    "    if team_set is None:\n",
    "        team_set = build_team_set(games_trimmed=games_trimmed)\n",
    "    if team_games is None:\n",
    "        team_games = build_team_games(games_trimmed=games_trimmed, team_set=team_set)\n",
    "    if player_id_games is None:\n",
    "        player_id_games = build_player_id_games(games_trimmed=games_trimmed, player_id_set=player_id_set, player_teams=player_teams, team_games=team_games)\n",
    "    if coordinate_shots is None:\n",
    "        coordinate_shots = build_coordinate_shots(games_trimmed=games_trimmed)\n",
    "    if grouped_data is None:\n",
    "        grouped_data=build_grouped_data(games_trimmed=games_trimmed, coordinate_shots=coordinate_shots)\n",
    "    if player_pcts_and_groups is None:\n",
    "        player_pcts_and_groups=build_player_pcts_and_groups(games_trimmed=games_trimmed, player_id_set=player_id_set, player_teams=player_teams, team_set=team_set, team_games=team_games, player_id_games=player_id_games, coordinate_shots=coordinate_shots, grouped_data=grouped_data)\n",
    "    shooter = get_shot_shooter(gameID, shotID, games_trimmed=games_trimmed)\n",
    "    x, y = get_shot_grouped_coordinates(gameID, shotID, games_trimmed=games_trimmed)\n",
    "    return player_pcts_and_groups[shooter][1][(x, y)]"
   ]
  },
  {
   "cell_type": "code",
   "execution_count": 10,
   "id": "6671a572",
   "metadata": {},
   "outputs": [],
   "source": [
    "def build_player_pcts_and_groups(games_trimmed=None, player_id_set = None, player_teams=None, team_set=None, team_games=None, player_id_games=None, coordinate_shots=None, grouped_data=None):\n",
    "    if games_trimmed is None:\n",
    "        print(\"Please build games_trimmed with the build_games_trimmed() function. \\nPass the directory your game .json files are saved in as its argument.\")\n",
    "        return None\n",
    "    if player_id_set is None:\n",
    "        player_id_set = build_player_id_set(games_trimmed=games_trimmed)\n",
    "    if player_teams is None:\n",
    "        player_teams = build_player_teams(games_trimmed=games_trimmed, player_id_set=player_id_set)\n",
    "    if team_set is None:\n",
    "        team_set = build_team_set(games_trimmed=games_trimmed)\n",
    "    if team_games is None:\n",
    "        team_games = build_team_games(games_trimmed=games_trimmed, team_set=team_set)\n",
    "    if player_id_games is None:\n",
    "        player_id_games = build_player_id_games(games_trimmed=games_trimmed, player_id_set=player_id_set, player_teams=player_teams, team_games=team_games)\n",
    "    if coordinate_shots is None:\n",
    "        coordinate_shots = build_coordinate_shots(games_trimmed=games_trimmed)\n",
    "    if grouped_data is None:\n",
    "        grouped_data=build_grouped_data(games_trimmed=games_trimmed, coordinate_shots=coordinate_shots)\n",
    "    player_pcts = {}\n",
    "    for player in player_id_set:\n",
    "        player_pcts[player] = get_player_avg_pct_and_groups(player, games_trimmed=games_trimmed, player_id_set=player_id_set, player_teams=player_teams, team_set=team_set, team_games=team_games, player_id_games=player_id_games, grouped_data=grouped_data)\n",
    "    return player_pcts"
   ]
  },
  {
   "cell_type": "code",
   "execution_count": 28,
   "id": "2f555aab",
   "metadata": {},
   "outputs": [
    {
     "name": "stdout",
     "output_type": "stream",
     "text": [
      "build_grouped_data()\n"
     ]
    }
   ],
   "source": [
    "grouped_data = build_grouped_data(games_trimmed=games_trimmed, coordinate_shots=coordinate_shots)"
   ]
  },
  {
   "cell_type": "code",
   "execution_count": 29,
   "id": "0c03fb18",
   "metadata": {},
   "outputs": [
    {
     "data": {
      "text/plain": [
       "NoneType"
      ]
     },
     "execution_count": 29,
     "metadata": {},
     "output_type": "execute_result"
    }
   ],
   "source": [
    "type(grouped_data)"
   ]
  },
  {
   "cell_type": "code",
   "execution_count": null,
   "id": "69258b86",
   "metadata": {},
   "outputs": [],
   "source": []
  }
 ],
 "metadata": {
  "kernelspec": {
   "display_name": "Python 3 (ipykernel)",
   "language": "python",
   "name": "python3"
  },
  "language_info": {
   "codemirror_mode": {
    "name": "ipython",
    "version": 3
   },
   "file_extension": ".py",
   "mimetype": "text/x-python",
   "name": "python",
   "nbconvert_exporter": "python",
   "pygments_lexer": "ipython3",
   "version": "3.9.12"
  }
 },
 "nbformat": 4,
 "nbformat_minor": 5
}
