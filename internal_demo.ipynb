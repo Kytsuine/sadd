{
 "cells": [
  {
   "cell_type": "code",
   "execution_count": 1,
   "id": "7f5641ce",
   "metadata": {},
   "outputs": [],
   "source": [
    "import matplotlib.pyplot as plt\n",
    "\n",
    "%matplotlib inline\n",
    "%run init_script_defines.py"
   ]
  },
  {
   "cell_type": "code",
   "execution_count": 3,
   "id": "a6f86834",
   "metadata": {},
   "outputs": [],
   "source": [
    "with open('./data/player_bisplreps.pkl', 'rb') as bisplreps_file:\n",
    "    player_bisplreps = pickle.load(bisplreps_file)"
   ]
  },
  {
   "cell_type": "code",
   "execution_count": 4,
   "id": "8feafab8",
   "metadata": {},
   "outputs": [],
   "source": [
    "def player_shot_pct(playerID, x, y, player_bisplreps=player_bisplreps):\n",
    "    # Retrieve the player's bivariate b-spline representation from the player_bisplreps dictionary\n",
    "    coefs = player_bisplreps[playerID]\n",
    "\n",
    "    # Use the bisplev function from the scipy.interpolate package to evaluate the bivariate b-spline representation at the given (x, y) coordinates\n",
    "    shot_pct = interp.bisplev(x, y, coefs)\n",
    "    \n",
    "    # TODO: Define proper limits to an NHL-sized ice rink. Currently, the function gets weird when working with coordinates\n",
    "    # outside of the ice sheet.\n",
    "    \n",
    "    return shot_pct"
   ]
  },
  {
   "cell_type": "code",
   "execution_count": 18,
   "id": "021a6a07",
   "metadata": {},
   "outputs": [
    {
     "data": {
      "text/plain": [
       "0.027238180395428017"
      ]
     },
     "execution_count": 18,
     "metadata": {},
     "output_type": "execute_result"
    }
   ],
   "source": [
    "player_shot_pct(8474600, -10, 10)"
   ]
  },
  {
   "cell_type": "code",
   "execution_count": 20,
   "id": "fbf4f665",
   "metadata": {},
   "outputs": [
    {
     "data": {
      "text/plain": [
       "0.0920403137383916"
      ]
     },
     "execution_count": 20,
     "metadata": {},
     "output_type": "execute_result"
    }
   ],
   "source": [
    "player_shot_pct(8474096, 10, 10)"
   ]
  },
  {
   "cell_type": "code",
   "execution_count": 21,
   "id": "a2185d9a",
   "metadata": {},
   "outputs": [
    {
     "ename": "NameError",
     "evalue": "name 'player_coordinates' is not defined",
     "output_type": "error",
     "traceback": [
      "\u001b[1;31m---------------------------------------------------------------------------\u001b[0m",
      "\u001b[1;31mNameError\u001b[0m                                 Traceback (most recent call last)",
      "Input \u001b[1;32mIn [21]\u001b[0m, in \u001b[0;36m<cell line: 1>\u001b[1;34m()\u001b[0m\n\u001b[1;32m----> 1\u001b[0m \u001b[38;5;28mtype\u001b[39m(\u001b[38;5;28mmap\u001b[39m(\u001b[38;5;28;01mlambda\u001b[39;00m coordinate: (coordinate[\u001b[38;5;241m0\u001b[39m], coordinate[\u001b[38;5;241m1\u001b[39m], get_coordinate_goal_shot_ratio_for_player(\u001b[38;5;241m8470600\u001b[39m, coordinate[\u001b[38;5;241m0\u001b[39m], coordinate[\u001b[38;5;241m1\u001b[39m])), \u001b[43mplayer_coordinates\u001b[49m[\u001b[38;5;241m8470600\u001b[39m]))\n",
      "\u001b[1;31mNameError\u001b[0m: name 'player_coordinates' is not defined"
     ]
    }
   ],
   "source": [
    "type(map(lambda coordinate: (coordinate[0], coordinate[1], get_coordinate_goal_shot_ratio_for_player(8470600, coordinate[0], coordinate[1])), player_coordinates[8470600]))"
   ]
  },
  {
   "cell_type": "code",
   "execution_count": null,
   "id": "3bc4e6b3",
   "metadata": {},
   "outputs": [],
   "source": []
  }
 ],
 "metadata": {
  "kernelspec": {
   "display_name": "Python 3 (ipykernel)",
   "language": "python",
   "name": "python3"
  },
  "language_info": {
   "codemirror_mode": {
    "name": "ipython",
    "version": 3
   },
   "file_extension": ".py",
   "mimetype": "text/x-python",
   "name": "python",
   "nbconvert_exporter": "python",
   "pygments_lexer": "ipython3",
   "version": "3.9.12"
  }
 },
 "nbformat": 4,
 "nbformat_minor": 5
}
