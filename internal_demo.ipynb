{
 "cells": [
  {
   "cell_type": "code",
   "execution_count": 67,
   "id": "7f5641ce",
   "metadata": {},
   "outputs": [
    {
     "ename": "NameError",
     "evalue": "name 'games_trimmed' is not defined",
     "output_type": "error",
     "traceback": [
      "\u001b[1;31m---------------------------------------------------------------------------\u001b[0m",
      "\u001b[1;31mNameError\u001b[0m                                 Traceback (most recent call last)",
      "File \u001b[1;32m~\\Documents\\Analytics Bootcamp\\sadd\\init_script_defines.py:156\u001b[0m, in \u001b[0;36m<module>\u001b[1;34m\u001b[0m\n\u001b[0;32m    151\u001b[0m                     player_shots\u001b[38;5;241m.\u001b[39mappend((gameID, shot_num))\n\u001b[0;32m    153\u001b[0m     \u001b[38;5;28;01mreturn\u001b[39;00m player_shots\n\u001b[1;32m--> 156\u001b[0m \u001b[38;5;28;01mdef\u001b[39;00m \u001b[38;5;21mget_shots_by_player\u001b[39m(player_id, games_trimmed\u001b[38;5;241m=\u001b[39m\u001b[43mgames_trimmed\u001b[49m, player_id_games\u001b[38;5;241m=\u001b[39mplayer_id_games):\n\u001b[0;32m    157\u001b[0m     \u001b[38;5;28;01mif\u001b[39;00m games_trimmed \u001b[38;5;129;01mis\u001b[39;00m \u001b[38;5;28;01mNone\u001b[39;00m:\n\u001b[0;32m    158\u001b[0m         \u001b[38;5;28mprint\u001b[39m(\u001b[38;5;124m\"\u001b[39m\u001b[38;5;124mPlease build games_trimmed with the build_games_trimmed() function. \u001b[39m\u001b[38;5;130;01m\\n\u001b[39;00m\u001b[38;5;124mPass the directory your game .json files are saved in as its argument.\u001b[39m\u001b[38;5;124m\"\u001b[39m)\n",
      "\u001b[1;31mNameError\u001b[0m: name 'games_trimmed' is not defined"
     ]
    }
   ],
   "source": [
    "%run init_script_defines.py"
   ]
  },
  {
   "cell_type": "code",
   "execution_count": null,
   "id": "3bc4e6b3",
   "metadata": {},
   "outputs": [],
   "source": [
    "player_pcts_and_groups = build_player_pcts_and_groups()"
   ]
  },
  {
   "cell_type": "code",
   "execution_count": 98,
   "id": "8fe337ae",
   "metadata": {},
   "outputs": [],
   "source": [
    "def get_shots_by_player(player_id, games_trimmed = games_trimmed, player_id_games = player_id_games):\n",
    "    if games_trimmed is None:\n",
    "        print(\"Please build games_trimmed with the build_games_trimmed() function. \\nPass the directory your game .json files are saved in as its argument.\")\n",
    "        return None\n",
    "    if player_id_games is None:\n",
    "        player_id_games = build_player_id_games()\n",
    "\n",
    "    # Initialize an empty list to store the shots taken by the player.\n",
    "    player_shots = []\n",
    "\n",
    "    # Retrieve the games for the player from the player_id_games dictionary\n",
    "    games = player_id_games[player_id]\n",
    "\n",
    "    # Iterate over the keys in the games dictionary\n",
    "    for year, gameIDs in games.items():\n",
    "        # Iterate over the gameIDs in the list of gameIDs for the current year\n",
    "        for gameID in gameIDs:\n",
    "            # Retrieve the game dictionary for the current gameID\n",
    "            game_dict = games_trimmed[gameID]\n",
    "\n",
    "            # Iterate over the shots in the game\n",
    "            for shot_num, shot in game_dict.items():\n",
    "                periodTime = shot['about']['periodTime']\n",
    "                period = shot['about']['period']\n",
    "\n",
    "                # Check if the shot was taken in periods 1-3\n",
    "                if period in range(1, 4):\n",
    "                    # Check if the player took the shot\n",
    "                    if shot['players'][0]['player']['id'] == player_id:\n",
    "                        # Append a tuple (game_ID, shot_num) to the list of player shots\n",
    "                        player_shots.append((gameID, shot_num))\n",
    "\n",
    "    return player_shots"
   ]
  },
  {
   "cell_type": "code",
   "execution_count": null,
   "id": "99ee2288",
   "metadata": {},
   "outputs": [],
   "source": []
  },
  {
   "cell_type": "code",
   "execution_count": 119,
   "id": "99191477",
   "metadata": {},
   "outputs": [],
   "source": [
    "def get_player_avg_pct_and_groups(playerID, grouped_data = grouped_data):\n",
    "    player_shots = get_shots_by_player(playerID)\n",
    "    weighted_shots = grouped_data\n",
    "    group_dict = {}\n",
    "    total_ratio = 0\n",
    "    total_weight = 0\n",
    "    for gameID, shot in player_shots:\n",
    "        x, y = get_shot_grouped_coordinates(gameID, shot)\n",
    "        for _ in range(1, 850):\n",
    "            weighted_shots[(x, y)].append((gameID, shot))\n",
    "    for (x, y) in weighted_shots:\n",
    "        group_ratio = get_goal_shot_ratio(playerID, player_shots=weighted_shots[(x, y)])\n",
    "        total_ratio += group_ratio * len(weighted_shots[(x, y)])\n",
    "        total_weight += len(weighted_shots[(x, y)])\n",
    "        group_dict[(x, y)] = group_ratio\n",
    "    return (total_ratio / total_weight, group_dict)"
   ]
  },
  {
   "cell_type": "code",
   "execution_count": 92,
   "id": "4870e497",
   "metadata": {},
   "outputs": [],
   "source": [
    "def build_player_id_games(player_teams=player_teams, team_games=team_games):\n",
    "    #global player_teams\n",
    "    if player_teams == None:\n",
    "        player_teams = build_player_teams()\n",
    "    #global team_games\n",
    "    if team_games == None:\n",
    "        team_games = build_team_games()\n",
    "\n",
    "    # Initialize an empty dictionary to store the games a player has played in each year\n",
    "    player_id_games = {}\n",
    "\n",
    "    # Iterate over the keys in the player_teams dictionary\n",
    "    for player_id, teams in player_teams.items():\n",
    "        # Initialize an empty dictionary for the current player_id\n",
    "        player_id_games[player_id] = get_single_player_games(player_id)\n",
    "\n",
    "    # Return the player_id_games dictionary\n",
    "    return player_id_games"
   ]
  },
  {
   "cell_type": "code",
   "execution_count": 101,
   "id": "fb0ef314",
   "metadata": {},
   "outputs": [],
   "source": [
    "def get_shot_grouped_coordinates(gameID, shotID, games_trimmed = games_trimmed):\n",
    "    return (games_trimmed[gameID][shotID]['coordinates']['x']//5, games_trimmed[gameID][shotID]['coordinates']['y']//3)"
   ]
  },
  {
   "cell_type": "code",
   "execution_count": 116,
   "id": "80dca385",
   "metadata": {},
   "outputs": [],
   "source": [
    "grouped_data = build_grouped_data()"
   ]
  },
  {
   "cell_type": "code",
   "execution_count": 115,
   "id": "8488970f",
   "metadata": {},
   "outputs": [],
   "source": [
    "def build_grouped_data(coordinate_shots = coordinate_shots):\n",
    "    # Initialize the new dictionary\n",
    "    grouped_data = {}\n",
    "    # Loop through the data points in the original dictionary\n",
    "    for (x, y) in coordinate_shots.keys():\n",
    "      # Use integer division to map the x and y values to the coarser grid\n",
    "      x_group = x // 5\n",
    "      y_group = y // 3\n",
    "      \n",
    "      # Use a tuple of the x and y group as the key in the new dictionary\n",
    "      key = (x_group, y_group)\n",
    "      \n",
    "      # If the key doesn't exist in the dictionary yet, initialize it with an empty list\n",
    "      if key not in grouped_data:\n",
    "        grouped_data[key] = []\n",
    "      \n",
    "      # Append the data point to the list for this grid cell\n",
    "      grouped_data[key].extend(coordinate_shots[(x,y)])\n",
    "    return grouped_data"
   ]
  },
  {
   "cell_type": "code",
   "execution_count": 122,
   "id": "ac13ff11",
   "metadata": {},
   "outputs": [],
   "source": [
    "def get_goal_shot_ratio(player_id, player_shots=None, count=False, games_trimmed = games_trimmed):\n",
    "    if games_trimmed is None:\n",
    "        print(\"Please build games_trimmed with the build_games_trimmed() function. \\nPass the directory your game .json files are saved in as its argument.\")\n",
    "        return None\n",
    "    global player_id_games\n",
    "    if player_id_games is None:\n",
    "        player_id_games = build_player_id_games()\n",
    "\n",
    "    # If player_shots is not provided, retrieve them using the get_player_shots function\n",
    "    if player_shots is None:\n",
    "        player_shots = get_player_shots(player_id)\n",
    "\n",
    "    # If the player has never been on the ice for a shot, return 0\n",
    "    if len(player_shots) == 0:\n",
    "        return 0\n",
    "\n",
    "    # Initialize counters for the number of goals and shots\n",
    "    goal_count = 0\n",
    "    shot_count = 0\n",
    "\n",
    "    # Loop through the shot dictionaries in the player_shots list\n",
    "    for shot_location in player_shots:\n",
    "        game_id, shot_num = shot_location\n",
    "        shot = games_trimmed[game_id][shot_num]\n",
    "\n",
    "        # Check the event type of the shot (either 'Goal' or 'Shot')\n",
    "        event_type = shot['result']['event']\n",
    "\n",
    "        # If the event is a goal, increment the goal_count\n",
    "        if event_type == 'Goal':\n",
    "            goal_count += 1\n",
    "\n",
    "        # If the event is a shot, increment the shot_count\n",
    "        if event_type in ('Goal', 'Shot'):\n",
    "            shot_count += 1\n",
    "\n",
    "    # Calculate the proportion of goals to shots by dividing the number of goals by the number of shots\n",
    "    proportion_of_goals = goal_count / shot_count\n",
    "\n",
    "    if count:\n",
    "        return (proportion_of_goals, shot_count)\n",
    "    else:\n",
    "        return (proportion_of_goals)"
   ]
  },
  {
   "cell_type": "code",
   "execution_count": null,
   "id": "0ab1ad88",
   "metadata": {},
   "outputs": [],
   "source": []
  }
 ],
 "metadata": {
  "kernelspec": {
   "display_name": "Python 3 (ipykernel)",
   "language": "python",
   "name": "python3"
  },
  "language_info": {
   "codemirror_mode": {
    "name": "ipython",
    "version": 3
   },
   "file_extension": ".py",
   "mimetype": "text/x-python",
   "name": "python",
   "nbconvert_exporter": "python",
   "pygments_lexer": "ipython3",
   "version": "3.9.12"
  }
 },
 "nbformat": 4,
 "nbformat_minor": 5
}
